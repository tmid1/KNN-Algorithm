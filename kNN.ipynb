{
  "nbformat": 4,
  "nbformat_minor": 0,
  "metadata": {
    "colab": {
      "provenance": [],
      "authorship_tag": "ABX9TyNUSW5q+4wZzJara2lqzsLg"
    },
    "kernelspec": {
      "name": "python3",
      "display_name": "Python 3"
    },
    "language_info": {
      "name": "python"
    }
  },
  "cells": [
    {
      "cell_type": "code",
      "execution_count": 66,
      "metadata": {
        "id": "hpdzZDoHrJcZ"
      },
      "outputs": [],
      "source": [
        "import numpy as np\n",
        "import pandas as pd\n",
        "import sklearn as sk\n",
        "import sklearn.model_selection\n",
        "from sklearn.neighbors import KNeighborsClassifier\n",
        "from sklearn.preprocessing import StandardScaler\n",
        "import sys\n",
        "import matplotlib.pyplot as plt"
      ]
    },
    {
      "cell_type": "text",
      "source": [ "Section 1 of my self-made machine learning course: Creating a K-Nearest Neighbors algorithm to classify the Iris dataset. (https://www.kaggle.com/datasets/uciml/iris). I wanted to try to build by scratch and then compare to the SciKit Learn algorithm and compare the results. Used matplotlib for visualization."
    {
      "cell_type": "code",
      "source": [
        "def trainer(x_train, y_train, x_test, y_test, total, k):\n",
        "\n",
        "  x_train = x_train\n",
        "  y_train = y_train\n",
        "  x_test = x_test\n",
        "  y_test = y_test\n",
        "\n",
        "  k = k\n",
        "\n",
        "  foundTypes = []\n",
        "\n",
        "\n",
        "  for i in range(np.shape(x_test)[0]):\n",
        "    distances = np.full(k, sys.maxsize, dtype=int)\n",
        "    types = [None] * k\n",
        "    for j in range(np.shape(x_train)[0]):\n",
        "      #multi axis distance, with each param as an axis\n",
        "      distance = np.linalg.norm(x_train[j] - x_test[i])  # Euclidean distance\n",
        "      for l in range(np.size(distances)):\n",
        "        if distance <= distances[l]:\n",
        "          distances[l] = distance\n",
        "          types[l] = y_train[j]\n",
        "          break\n",
        "\n",
        "    #majority vote classification\n",
        "    setosa = 0\n",
        "    versicolor = 0\n",
        "    virginica = 0\n",
        "    for t in range(np.size(types)):\n",
        "      if types[t] == \"Iris-setosa\":\n",
        "        setosa += 1\n",
        "      elif types[t] == \"Iris-versicolor\":\n",
        "        versicolor += 1\n",
        "      elif types[t] == \"Iris-virginica\":\n",
        "        virginica += 1\n",
        "\n",
        "    mostType = max(setosa, versicolor, virginica)\n",
        "\n",
        "    if mostType == setosa:\n",
        "      foundTypes.append(\"Iris-setosa\")\n",
        "    elif mostType == versicolor:\n",
        "      foundTypes.append(\"Iris-versicolor\")\n",
        "    elif mostType == virginica:\n",
        "      foundTypes.append(\"Iris-virginica\")\n",
        "\n",
        "  correct = 0\n",
        "\n",
        "  for i in range(np.size(y_test)-1):\n",
        "    if y_test[i] == foundTypes[i]:\n",
        "      correct += 1\n",
        "  perc = correct/(np.shape(x_test)[0])\n",
        "  plt.title(\"Real Data\")\n",
        "  plt.plot(x_train, y_train, \"bo\")\n",
        "  plt.plot(x_test, y_test, \"ro\")\n",
        "  plt.plot(x_test, foundTypes, \"go\")\n",
        "  return perc\n"
      ],
      "metadata": {
        "id": "uGiRwHfPTlMk"
      },
      "execution_count": 45,
      "outputs": []
    },
    {
      "cell_type": "code",
      "source": [
        "#Classifying iris species in the iris dataset, 150 entries\n",
        "\n",
        "data = pd.read_csv(\"Iris.csv\", sep=\",\") #read in the data set with pandas\n",
        "data = data[[\"SepalLengthCm\", \"SepalWidthCm\", \"PetalLengthCm\", \"PetalWidthCm\", \"Species\"]]\n",
        "\n",
        "predict = \"Species\"\n",
        "\n",
        "\n",
        "#Could use sk learn to split data, but want to try myself\n",
        "\n",
        "#90 10 split, 126 train, 24 test\n",
        "\n",
        "total = 150\n",
        "train = 135\n",
        "test = 15\n",
        "\n",
        "k = 9\n",
        "\n",
        "rng = np.random.default_rng()\n",
        "\n",
        "x = (np.array(data.drop([predict], axis=1)))\n",
        "rng.shuffle(x,axis=0)\n",
        "y = (np.array(data[predict]))\n",
        "rng.shuffle(y)\n",
        "\n",
        "x_train = x[0:train-1]\n",
        "y_train = y[0:train-1]\n",
        "\n",
        "x_test = x[train:total-1]\n",
        "y_test = y[train:total-1]\n",
        "\n",
        "\n",
        "#train the model, classification\n",
        "\n",
        "\n",
        "#using scikit learn:\n",
        "skBest = 0\n",
        "myBest = 0\n",
        "\n",
        "for _ in range(200):\n",
        "  x_train, x_test, y_train, y_test = sk.model_selection.train_test_split(x, y, test_size = 0.1)\n",
        "\n",
        "  knn = KNeighborsClassifier(n_neighbors=k)\n",
        "\n",
        "  knn.fit(x_train, y_train)\n",
        "\n",
        "  acc = trainer(x_train, y_train, x_test, y_test, total, k)\n",
        "  if acc > myBest:\n",
        "    myBest = acc\n",
        "\n",
        "  test_score = knn.score(x_test, y_test)\n",
        "  if test_score >= skBest:\n",
        "    skBest = test_score\n",
        "\n",
        "\n",
        "\n",
        "\n",
        "#Very similar performances\n",
        "print(\"My best:\", myBest)\n",
        "print(\"Sk best:\", skBest)\n",
        "\n",
        "#How does normalizing help?\n",
        "skBest = 0\n",
        "myBest = 0\n",
        "for _ in range(200):\n",
        "  x_train, x_test, y_train, y_test = sk.model_selection.train_test_split(x, y, test_size = 0.1)\n",
        "\n",
        "  scaler = StandardScaler()\n",
        "  x_train = scaler.fit_transform(x_train)\n",
        "  x_test = scaler.transform(x_test)\n",
        "\n",
        "  knn = KNeighborsClassifier(n_neighbors=k)\n",
        "\n",
        "  knn.fit(x_train, y_train)\n",
        "\n",
        "  acc = trainer(x_train, y_train, x_test, y_test, total, k)\n",
        "  if acc > myBest:\n",
        "    myBest = acc\n",
        "\n",
        "  test_score = knn.score(x_test, y_test)\n",
        "  if test_score >= skBest:\n",
        "    skBest = test_score\n",
        "\n",
        "#seems that SK learn knn is already scaled, and scaling my data makes performace increase ~13%\n",
        "print(\"My best (scaled):\", myBest)\n",
        "print(\"Sk best (scaled):\", skBest)\n",
        "\n",
        "\n",
        "\n"
      ],
      "metadata": {
        "id": "cU_IlF7irlR6",
        "colab": {
          "base_uri": "https://localhost:8080/",
          "height": 523
        },
        "outputId": "e8a0131f-8b78-41cc-95dc-3f9df60a3acc"
      },
      "execution_count": 68,
      "outputs": [
        {
          "output_type": "stream",
          "name": "stdout",
          "text": [
            "My best: 0.6\n",
            "Sk best: 0.7333333333333333\n",
            "My best (scaled): 0.7333333333333333\n",
            "Sk best (scaled): 0.7333333333333333\n"
          ]
        },
        {
          "output_type": "display_data",
          "data": {
            "text/plain": [
              "<Figure size 640x480 with 1 Axes>"
            ],
            "image/png": "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\n"
          },
          "metadata": {}
        }
      ]
    }
  ]
}
